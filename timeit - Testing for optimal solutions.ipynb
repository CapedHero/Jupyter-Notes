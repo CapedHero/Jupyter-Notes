{
 "cells": [
  {
   "cell_type": "code",
   "execution_count": 7,
   "metadata": {
    "collapsed": false,
    "deletable": true,
    "editable": true,
    "scrolled": true
   },
   "outputs": [
    {
     "name": "stdout",
     "output_type": "stream",
     "text": [
      "\n",
      "Test #1\n",
      "Testing for 83.26.196.138\n",
      "1.8677417600119952\n",
      "4.534265156980837\n",
      "\n",
      "Test #2\n",
      "Testing for 156.206.113.76\n",
      "1.7583343810110819\n",
      "4.524029079009779\n",
      "\n",
      "Test #3\n",
      "Testing for 20.138.227.117\n",
      "1.7166662689996883\n",
      "4.526254434022121\n"
     ]
    }
   ],
   "source": [
    "import timeit\n",
    "import random\n",
    "\n",
    "\n",
    "def ip_to_int32_1(ip):\n",
    "    addr = ip.split(\".\")\n",
    "    res = int(addr[0]) << 24\n",
    "    res += int(addr[1]) << 16\n",
    "    res += int(addr[2]) << 8\n",
    "    res += int(addr[3])\n",
    "    return res\n",
    "\n",
    "\n",
    "def ip_to_int32_2(ip):\n",
    "    ip_int = map(int, ip.split('.'))\n",
    "    ip_bin = map(lambda b: '{:08b}'.format(b), ip_int)\n",
    "    return int(''.join(ip_bin), 2)\n",
    "\n",
    "\n",
    "for i in range(3):\n",
    "    x = (str(random.randint(0, 255)) + '.'\n",
    "         + str(random.randint(0, 255)) + '.'\n",
    "         + str(random.randint(0, 255)) + '.'\n",
    "         + str(random.randint(0, 255)))\n",
    "    print('\\nTest #{}\\nTesting for {}'.format(i + 1, x))\n",
    "    print(timeit.timeit(\"ip_to_int32_1(x)\", \n",
    "                        \"from __main__ import ip_to_int32_1, x\"))\n",
    "    print(timeit.timeit(\"ip_to_int32_2(x)\", \n",
    "                        \"from __main__ import ip_to_int32_2, x\"))"
   ]
  }
 ],
 "metadata": {
  "kernelspec": {
   "display_name": "Python 3",
   "language": "python",
   "name": "python3"
  },
  "language_info": {
   "codemirror_mode": {
    "name": "ipython",
    "version": 3
   },
   "file_extension": ".py",
   "mimetype": "text/x-python",
   "name": "python",
   "nbconvert_exporter": "python",
   "pygments_lexer": "ipython3",
   "version": "3.6.0"
  }
 },
 "nbformat": 4,
 "nbformat_minor": 2
}
