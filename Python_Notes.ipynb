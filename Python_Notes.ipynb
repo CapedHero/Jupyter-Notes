{
 "cells": [
  {
   "cell_type": "markdown",
   "metadata": {},
   "source": [
    "## Replace nth occurance"
   ]
  },
  {
   "cell_type": "code",
   "execution_count": 47,
   "metadata": {
    "collapsed": false
   },
   "outputs": [
    {
     "name": "stdout",
     "output_type": "stream",
     "text": [
      "\n",
      "Default replacement - only first occurrence:\n",
      "test [dot] test.test.test.test@gmail.com\n",
      "\n",
      "\n",
      "Only nth replacement:\n",
      "test.test.test [dot] test.test@gmail.com\n",
      "\n",
      "\n",
      "Nth and all to the left replacement:\n",
      "test [dot] test [dot] test [dot] test.test@gmail.com\n",
      "\n",
      "\n",
      "Nth and all to the right replacement:\n",
      "test.test.test [dot] test [dot] test@gmail [dot] com\n"
     ]
    }
   ],
   "source": [
    "def nth_replace(string, old, new, n=1, option='only nth'):\n",
    "    \"\"\"\n",
    "    This function replaces occurrences of string 'old' with string 'new'.\n",
    "    There are three types of replacement of string 'old':\n",
    "    1) 'only nth' replaces only nth occurrence (default).\n",
    "    2) 'all left' replaces nth occurrence and all occurrences to the left.\n",
    "    3) 'all right' replaces nth occurrence and all occurrences to the right.\n",
    "    \"\"\"\n",
    "    if option == 'only nth':\n",
    "        left_join = old\n",
    "        right_join = old\n",
    "    elif option == 'all left':\n",
    "        left_join = new\n",
    "        right_join = old\n",
    "    elif option == 'all right':\n",
    "        left_join = old\n",
    "        right_join = new\n",
    "    else:\n",
    "        print(\"Invalid option. Please choose from: 'only nth' (default), 'all left' or 'all right'\")\n",
    "        return None\n",
    "    groups = string.split(old)\n",
    "    nth_split = [left_join.join(groups[:n]), right_join.join(groups[n:])]\n",
    "    return new.join(nth_split)\n",
    "\n",
    "email = 'test.test.test.test.test@gmail.com'\n",
    "\n",
    "print('\\nDefault replacement - only first occurrence:')\n",
    "print(nth_replace(email, '.', ' [dot] '))\n",
    "print('\\n\\nOnly nth replacement:')\n",
    "print(nth_replace(email, '.', ' [dot] ', 3))\n",
    "print('\\n\\nNth and all to the left replacement:')\n",
    "print(nth_replace(email, '.', ' [dot] ', 3, 'all left'))\n",
    "print('\\n\\nNth and all to the right replacement:')\n",
    "print(nth_replace(email, '.', ' [dot] ', 3, 'all right'))\n"
   ]
  },
  {
   "cell_type": "markdown",
   "metadata": {},
   "source": [
    "## Timeit on functions"
   ]
  },
  {
   "cell_type": "code",
   "execution_count": 7,
   "metadata": {
    "collapsed": false
   },
   "outputs": [
    {
     "name": "stdout",
     "output_type": "stream",
     "text": [
      "\n",
      "Test #1\n",
      "Testing for 181334\n",
      "0.2446\n",
      "5.1306\n",
      "\n",
      "Test #2\n",
      "Testing for 2572186\n",
      "0.2405\n",
      "75.1304\n",
      "\n",
      "Test #3\n",
      "Testing for 6209475\n",
      "10.8045\n",
      "10.9576\n"
     ]
    }
   ],
   "source": [
    "import math\n",
    "import timeit\n",
    "import random\n",
    "\n",
    "\n",
    "def is_prime_1(n):\n",
    "    if n < 2:\n",
    "        return False\n",
    "    elif n % 2 == 0 and n > 2: \n",
    "        return False\n",
    "    else:\n",
    "        return all(n % i for i in range(3, int(math.sqrt(n)) + 1, 2))\n",
    "\n",
    "\n",
    "def is_prime_2(n):\n",
    "    if n < 2:\n",
    "        return False\n",
    "    else:\n",
    "        return all(n % i for i in range(3, int(math.sqrt(n)) + 1, 2))\n",
    "\n",
    "for i in range(1, 4):\n",
    "    x = random.randint(0, 10000000)\n",
    "    print('\\nTest #{}\\nTesting for {}'.format(i, x))\n",
    "    print(round(timeit.timeit(\"is_prime_1(x)\", \"from __main__ import is_prime_1, x\"), 4))\n",
    "    print(round(timeit.timeit(\"is_prime_2(x)\", \"from __main__ import is_prime_2, x\"), 4))"
   ]
  },
  {
   "cell_type": "markdown",
   "metadata": {
    "deletable": true,
    "editable": true
   },
   "source": [
    "## URL Encoding (Percent Encoding)\n",
    "URLs can only be sent over the Internet using the ASCII character-set.\n",
    "\n",
    "Since URLs often contain characters outside the ASCII set, the URL has to be converted into a valid ASCII format.\n",
    "\n",
    "URL encoding replaces unsafe ASCII characters with a \"%\" followed by <b>two hexadecimal digits</b>.\n",
    "\n",
    "For instance, URLs cannot contain spaces. URL encoding normally replaces a space with a plus (+) sign or with %20."
   ]
  },
  {
   "cell_type": "code",
   "execution_count": 2,
   "metadata": {
    "collapsed": false,
    "deletable": true,
    "editable": true
   },
   "outputs": [
    {
     "name": "stdout",
     "output_type": "stream",
     "text": [
      "http://www.codewars.com/users/Karolinka%20%25%40%5E%21%21\n"
     ]
    }
   ],
   "source": [
    "import urllib\n",
    "\n",
    "def generate_link(user):\n",
    "    return 'http://www.codewars.com/users/' + urllib.quote(user)\n",
    "\n",
    "print generate_link('Karolinka %@^!!')"
   ]
  },
  {
   "cell_type": "markdown",
   "metadata": {
    "deletable": true,
    "editable": true
   },
   "source": [
    "## Translate"
   ]
  },
  {
   "cell_type": "code",
   "execution_count": 25,
   "metadata": {
    "collapsed": false,
    "deletable": true,
    "editable": true
   },
   "outputs": [
    {
     "name": "stdout",
     "output_type": "stream",
     "text": [
      "LONDON\n",
      "DUBLIN\n",
      "SINGAPORE\n",
      "BUDAPEST\n",
      "PARIS\n"
     ]
    }
   ],
   "source": [
    "import string #in Python 2 this import is necessary for string.maketrans\n",
    "\n",
    "def correct(s): \n",
    "    return s.translate(string.maketrans('501', 'SOI')) #Python 2\n",
    "    return s.translate(str.maketrans('501', 'SOI')) #Python 3\n",
    "    \n",
    "print correct(\"L0ND0N\")\n",
    "print correct(\"DUBL1N\")\n",
    "print correct(\"51NGAP0RE\")\n",
    "print correct(\"BUDAPE5T\")\n",
    "print correct(\"PAR15\")"
   ]
  },
  {
   "cell_type": "markdown",
   "metadata": {
    "deletable": true,
    "editable": true
   },
   "source": [
    "## Zip\n",
    "This function returns a list of tuples, where the i-th tuple contains the i-th element from each of the argument sequences or iterables. The returned list is truncated in length to the length of the shortest argument sequence."
   ]
  },
  {
   "cell_type": "code",
   "execution_count": 2,
   "metadata": {
    "collapsed": false,
    "deletable": true,
    "editable": true
   },
   "outputs": [
    {
     "name": "stdout",
     "output_type": "stream",
     "text": [
      "[('L', 'e', 'x'), ('L', 'u', 't'), ('h', 'o', 'r')]\n",
      "['Lex', 'Lut', 'hor']\n",
      "LexLuthor\n"
     ]
    }
   ],
   "source": [
    "print [x for x in zip(\"LLh\", \"euo\", \"xtr\")]\n",
    "print [''.join(x) for x in zip(\"LLh\", \"euo\", \"xtr\")]\n",
    "print ''.join(''.join(x) for x in zip(\"LLh\", \"euo\", \"xtr\"))"
   ]
  },
  {
   "cell_type": "markdown",
   "metadata": {
    "deletable": true,
    "editable": true
   },
   "source": [
    "## Counter from collections module\n",
    "Elements of an argument are stored as dictionary keys and their counts are stored as dictionary values."
   ]
  },
  {
   "cell_type": "code",
   "execution_count": 26,
   "metadata": {
    "collapsed": false,
    "deletable": true,
    "editable": true
   },
   "outputs": [
    {
     "data": {
      "text/plain": [
       "Counter({' ': 2,\n",
       "         '!': 1,\n",
       "         'G': 1,\n",
       "         'I': 1,\n",
       "         'K': 1,\n",
       "         'N': 1,\n",
       "         'W': 1,\n",
       "         'a': 1,\n",
       "         'd': 1,\n",
       "         'e': 1,\n",
       "         'i': 4,\n",
       "         'k': 1,\n",
       "         'p': 1,\n",
       "         's': 1})"
      ]
     },
     "execution_count": 26,
     "metadata": {},
     "output_type": "execute_result"
    }
   ],
   "source": [
    "import collections\n",
    "\n",
    "def char_freq(message):\n",
    "    return collections.Counter(message)\n",
    "\n",
    "char_freq('Wikipedia is KING!')"
   ]
  },
  {
   "cell_type": "markdown",
   "metadata": {
    "deletable": true,
    "editable": true
   },
   "source": [
    "## Regex re.match vs. re.search\n",
    "\n",
    "### re.match documentation says:\n",
    "\n",
    "If zero or more characters at the beginning of string match the regular expression pattern, return a corresponding MatchObject instance. Return None if the string does not match the pattern; note that this is different from a zero-length match.\n",
    "\n",
    "<b>Note: If you want to locate a match anywhere in string, use search() instead.</b>\n",
    "\n",
    "### re.search searches the entire string, as the documentation says:\n",
    "\n",
    "Scan through string looking for a location where the regular expression pattern produces a match, and return a corresponding MatchObject instance. Return None if no position in the string matches the pattern; note that this is different from finding a zero-length match at some point in the string. <b> So if you need to match at the beginning of the string, or to match the entire string use match. It is faster. Otherwise use search.</b>\n",
    "\n",
    "The documentation has a specific section for match vs. search that also covers multiline strings:\n",
    "\n",
    "Python offers two different primitive operations based on regular expressions: match checks for a match only at the beginning of the string, while search checks for a match anywhere in the string.\n",
    "\n",
    "Note that match may differ from search even when using a regular expression beginning with  '^'.\n",
    "\n",
    "'^' matches only at the start of the string, or in  MULTILINE mode also immediately following a newline. <b> The “match” operation succeeds only if the pattern matches at the start of the string regardless of mode</b>, or at the starting position given by the optional pos argument regardless of whether a newline precedes it."
   ]
  },
  {
   "cell_type": "code",
   "execution_count": 3,
   "metadata": {
    "collapsed": false,
    "deletable": true,
    "editable": true
   },
   "outputs": [
    {
     "name": "stdout",
     "output_type": "stream",
     "text": [
      "False\n",
      "False\n",
      "True\n"
     ]
    }
   ],
   "source": [
    "import re\n",
    "\n",
    "def validate_user(username):\n",
    "    if re.match('^[a-z0-9_]+$', str(username)):\n",
    "        return True\n",
    "    else:\n",
    "        return False\n",
    "    \n",
    "print validate_user('asd43 34')\n",
    "print validate_user('Hass')\n",
    "print validate_user('caped_hero')"
   ]
  },
  {
   "cell_type": "markdown",
   "metadata": {
    "deletable": true,
    "editable": true
   },
   "source": [
    "## Smallest unused ID"
   ]
  },
  {
   "cell_type": "code",
   "execution_count": 29,
   "metadata": {
    "collapsed": false,
    "deletable": true,
    "editable": true
   },
   "outputs": [
    {
     "name": "stdout",
     "output_type": "stream",
     "text": [
      "0\n",
      "7\n"
     ]
    }
   ],
   "source": [
    "def next_id(arr):\n",
    "    t = 0\n",
    "    while t in arr:\n",
    "        t +=1\n",
    "    return t\n",
    "\n",
    "print next_id([1, 2, 3, 4, 5])\n",
    "print next_id([0, 1, 2, 3, 4, 5, 6, 11])"
   ]
  },
  {
   "cell_type": "markdown",
   "metadata": {
    "deletable": true,
    "editable": true
   },
   "source": [
    "## Hex-Bin-Dec"
   ]
  },
  {
   "cell_type": "code",
   "execution_count": 10,
   "metadata": {
    "collapsed": false,
    "deletable": true,
    "editable": true,
    "scrolled": true
   },
   "outputs": [
    {
     "name": "stdout",
     "output_type": "stream",
     "text": [
      "Hex to Dec\n",
      "15\n",
      "240\n",
      "255\n",
      "4095\n",
      "\n",
      "Bin to Dec\n",
      "0\n",
      "2\n",
      "4\n",
      "128\n"
     ]
    }
   ],
   "source": [
    "def hex_to_dec(s):\n",
    "    return int(str(s), 16)\n",
    "\n",
    "print 'Hex to Dec'\n",
    "print hex_to_dec('f')\n",
    "print hex_to_dec('f0')\n",
    "print hex_to_dec('ff')\n",
    "print hex_to_dec('fff')\n",
    "\n",
    "def bin_to_dec(s):\n",
    "    return int(str(s), 2)\n",
    "\n",
    "print '\\nBin to Dec'\n",
    "print bin_to_dec('0')\n",
    "print bin_to_dec('10')\n",
    "print bin_to_dec('100')\n",
    "print bin_to_dec('10000000')"
   ]
  },
  {
   "cell_type": "markdown",
   "metadata": {
    "deletable": true,
    "editable": true
   },
   "source": [
    "## Strip\n",
    "The method strip() returns a copy of the string in which all chars have been stripped from the beginning and the end of the string (default whitespace characters).\n",
    "\n",
    "Strip can be interpreted as performing both lstrip() and rstrip() on a string."
   ]
  },
  {
   "cell_type": "code",
   "execution_count": 1,
   "metadata": {
    "collapsed": false,
    "deletable": true,
    "editable": true
   },
   "outputs": [
    {
     "name": "stdout",
     "output_type": "stream",
     "text": [
      "Hello\n"
     ]
    }
   ],
   "source": [
    "def remove_exclamation(s):\n",
    "    return s.rstrip(\"!\")\n",
    "\n",
    "print remove_exclamation('Hello!!!!!!!!!')"
   ]
  },
  {
   "cell_type": "markdown",
   "metadata": {
    "deletable": true,
    "editable": true
   },
   "source": [
    "## Check if type matches"
   ]
  },
  {
   "cell_type": "code",
   "execution_count": 13,
   "metadata": {
    "collapsed": false,
    "deletable": true,
    "editable": true,
    "scrolled": true
   },
   "outputs": [
    {
     "name": "stdout",
     "output_type": "stream",
     "text": [
      "<type 'str'>\n",
      "<type 'str'>\n",
      "<type 'str'>\n",
      "<type 'int'>\n",
      "<type 'list'>\n"
     ]
    }
   ],
   "source": [
    "print type('test case')\n",
    "print type('Lancelot')\n",
    "print type('123')\n",
    "print type(123)\n",
    "print type([1, 2, 3])"
   ]
  },
  {
   "cell_type": "code",
   "execution_count": 14,
   "metadata": {
    "collapsed": false,
    "deletable": true,
    "editable": true
   },
   "outputs": [
    {
     "name": "stdout",
     "output_type": "stream",
     "text": [
      "True\n",
      "True\n",
      "True\n",
      "False\n",
      "False\n"
     ]
    }
   ],
   "source": [
    "print isinstance('test case', str)\n",
    "print isinstance('Lancelot', str)\n",
    "print isinstance('123', str)\n",
    "print isinstance(123, str)\n",
    "print isinstance([1, 2, 3], str)"
   ]
  },
  {
   "cell_type": "code",
   "execution_count": 12,
   "metadata": {
    "collapsed": false,
    "deletable": true,
    "editable": true
   },
   "outputs": [
    {
     "name": "stdout",
     "output_type": "stream",
     "text": [
      "Fire Bolt Fire Bolt Fire Bolt \n"
     ]
    }
   ],
   "source": [
    "def repeat_it(string, n): \n",
    "    return string * n if isinstance(string, str) else 'Not a string'\n",
    "\n",
    "print repeat_it('Fire Bolt ', 3)"
   ]
  },
  {
   "cell_type": "markdown",
   "metadata": {
    "deletable": true,
    "editable": true
   },
   "source": [
    "## Insert variable string into string"
   ]
  },
  {
   "cell_type": "code",
   "execution_count": 44,
   "metadata": {
    "collapsed": false,
    "deletable": true,
    "editable": true
   },
   "outputs": [
    {
     "name": "stdout",
     "output_type": "stream",
     "text": [
      "Hello, Ember! Welcome to Noosna, Firebreak!\n",
      "Hello, Onyx! Welcome to Yemisaeit, Icc'e Lak!\n"
     ]
    }
   ],
   "source": [
    "def say_hello_1(name, city, state):\n",
    "    return \"Hello, {}! Welcome to {}, {}!\".format(name, city, state)\n",
    "\n",
    "def say_hello_2(name, city, state):\n",
    "    return 'Hello, %s! Welcome to %s, %s!' % (name, city, state)\n",
    "\n",
    "print say_hello_1('Ember', 'Noosna', 'Firebreak')\n",
    "print say_hello_2('Onyx', 'Yemisaeit', 'Icc\\'e Lak')"
   ]
  },
  {
   "cell_type": "markdown",
   "metadata": {
    "deletable": true,
    "editable": true
   },
   "source": [
    "## Get values from dictionary\n",
    "\n",
    "dict.get(key, default=None)\n",
    "\n",
    "For existing keys returns value. If key is not found, returns default."
   ]
  },
  {
   "cell_type": "code",
   "execution_count": 18,
   "metadata": {
    "collapsed": false,
    "deletable": true,
    "editable": true
   },
   "outputs": [
    {
     "name": "stdout",
     "output_type": "stream",
     "text": [
      "Venus\n",
      "None\n"
     ]
    }
   ],
   "source": [
    "def get_planet_name(id):\n",
    "    return {\n",
    "        1: \"Mercury\",\n",
    "        2: \"Venus\"  ,\n",
    "        3: \"Earth\"  ,\n",
    "        4: \"Mars\"   ,\n",
    "        5: \"Jupiter\",\n",
    "        6: \"Saturn\" ,\n",
    "        7: \"Uranus\" ,\n",
    "        8: \"Neptune\",\n",
    "        }.get(id, None)\n",
    "\n",
    "print get_planet_name(2)\n",
    "print get_planet_name(11)"
   ]
  },
  {
   "cell_type": "markdown",
   "metadata": {
    "deletable": true,
    "editable": true
   },
   "source": [
    "## Remove Vowels"
   ]
  },
  {
   "cell_type": "code",
   "execution_count": 30,
   "metadata": {
    "collapsed": false,
    "deletable": true,
    "editable": true,
    "scrolled": true
   },
   "outputs": [
    {
     "name": "stdout",
     "output_type": "stream",
     "text": [
      "Ths s jst  tst sntnc\n",
      "Ths s jst  tst sntnc\n"
     ]
    }
   ],
   "source": [
    "def remove_vowels1(s):\n",
    "   return ''.join([c for c in s if c not in 'aeiou']) \n",
    "\n",
    "def remove_vowels2(s):\n",
    "   return s.translate(None, 'aeiou')                # in Python 2\n",
    "   return s.translate(s.maketrans('', '', 'aeiou')) # in Python 3\n",
    "\n",
    "print remove_vowels1('This is just a test sentence')\n",
    "print remove_vowels2('This is just a test sentence')"
   ]
  },
  {
   "cell_type": "code",
   "execution_count": 2,
   "metadata": {
    "collapsed": false,
    "deletable": true,
    "editable": true
   },
   "outputs": [
    {
     "data": {
      "text/plain": [
       "'TestCase'"
      ]
     },
     "execution_count": 2,
     "metadata": {},
     "output_type": "execute_result"
    }
   ],
   "source": [
    "'TestCase0000'.translate(None, '0')"
   ]
  },
  {
   "cell_type": "markdown",
   "metadata": {
    "deletable": true,
    "editable": true
   },
   "source": [
    "## Random Choice"
   ]
  },
  {
   "cell_type": "code",
   "execution_count": 48,
   "metadata": {
    "collapsed": false,
    "deletable": true,
    "editable": true
   },
   "outputs": [
    {
     "name": "stdout",
     "output_type": "stream",
     "text": [
      "red\n",
      "red\n",
      "white\n"
     ]
    }
   ],
   "source": [
    "import random\n",
    "\n",
    "class Ghost(object):\n",
    "    def __init__(self):\n",
    "        self.color = random.choice(['white', 'yellow', 'red', 'purple'])\n",
    "        \n",
    "Ghost1 = Ghost()\n",
    "Ghost2 = Ghost()\n",
    "Ghost3 = Ghost()\n",
    "\n",
    "print Ghost1.color\n",
    "print Ghost2.color\n",
    "print Ghost3.color"
   ]
  },
  {
   "cell_type": "markdown",
   "metadata": {
    "deletable": true,
    "editable": true
   },
   "source": [
    "## Python version"
   ]
  },
  {
   "cell_type": "code",
   "execution_count": 20,
   "metadata": {
    "collapsed": false,
    "deletable": true,
    "editable": true,
    "scrolled": false
   },
   "outputs": [
    {
     "name": "stdout",
     "output_type": "stream",
     "text": [
      "2.7.13\n"
     ]
    }
   ],
   "source": [
    "import platform \n",
    "print platform.python_version()"
   ]
  },
  {
   "cell_type": "markdown",
   "metadata": {
    "deletable": true,
    "editable": true
   },
   "source": [
    "## Pyperclip - copying and pasting to the clipboard\n",
    "The purpose of Pyperclip is to provide a cross-platform Python module for copying and pasting text to the clipboard.\n",
    "\n",
    "To copy text to the clipboard, pass a string to pyperclip.copy(). To paste the text from the clipboard, call pyperclip.paste() and the text will be returned as a string value."
   ]
  },
  {
   "cell_type": "code",
   "execution_count": 21,
   "metadata": {
    "collapsed": false,
    "deletable": true,
    "editable": true
   },
   "outputs": [],
   "source": [
    "import pyperclip\n",
    "\n",
    "text = \"Test\"\n",
    "pyperclip.copy(text)"
   ]
  }
 ],
 "metadata": {
  "celltoolbar": "Raw Cell Format",
  "kernelspec": {
   "display_name": "Python 2",
   "language": "python",
   "name": "python2"
  }
 },
 "nbformat": 4,
 "nbformat_minor": 2
}
